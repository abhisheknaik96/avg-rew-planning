{
 "cells": [
  {
   "cell_type": "code",
   "execution_count": 27,
   "metadata": {
    "id": "FeWAWY_th5Hb"
   },
   "outputs": [],
   "source": [
    "import numpy as np\n",
    "import matplotlib.pyplot as plt\n",
    "plt.rcParams['axes.spines.right'] = False\n",
    "plt.rcParams['axes.spines.top'] = False\n",
    "plt.rcParams.update({'font.size': 15})\n",
    "plt.rcParams.update({'figure.figsize': [8,5]})"
   ]
  },
  {
   "cell_type": "code",
   "execution_count": 28,
   "metadata": {},
   "outputs": [
    {
     "name": "stdout",
     "output_type": "stream",
     "text": [
      "The autoreload extension is already loaded. To reload it, use:\n",
      "  %reload_ext autoreload\n"
     ]
    }
   ],
   "source": [
    "from src.differential_value_iteration.environments import three_loop_mrp\n",
    "from src.differential_value_iteration.algorithms import RVI_Evaluation, DVI_Evaluation\n",
    "from src.differential_value_iteration.utils import run_alg, draw\n",
    "\n",
    "%load_ext autoreload\n",
    "%autoreload 2"
   ]
  },
  {
   "cell_type": "code",
   "execution_count": 29,
   "metadata": {
    "id": "YLce6NTETE60"
   },
   "outputs": [],
   "source": [
    "env = three_loop_mrp"
   ]
  },
  {
   "cell_type": "markdown",
   "metadata": {},
   "source": [
    "### Synchronous RVI (sRVI) on the 3-loop problem"
   ]
  },
  {
   "cell_type": "code",
   "execution_count": 30,
   "metadata": {
    "colab": {
     "base_uri": "https://localhost:8080/",
     "height": 381
    },
    "id": "fovGapgXtSKx",
    "outputId": "b8a290ba-59e6-41ef-bc39-447bf05d0e63"
   },
   "outputs": [
    {
     "name": "stdout",
     "output_type": "stream",
     "text": [
      "RVI Evaluation starting alpha:1.0 Converged? False\n",
      "RVI Evaluation starting alpha:0.999 Converged? True\n",
      "RVI Evaluation starting alpha:0.99 Converged? True\n",
      "RVI Evaluation starting alpha:0.9 Converged? True\n",
      "RVI Evaluation starting alpha:0.7 Converged? True\n",
      "RVI Evaluation starting alpha:0.5 Converged? True\n",
      "RVI Evaluation starting alpha:0.3 Converged? True\n",
      "RVI Evaluation starting alpha:0.1 Converged? True\n",
      "RVI Evaluation starting alpha:0.01 Converged? True\n",
      "RVI Evaluation starting alpha:0.001 Converged? True\n"
     ]
    },
    {
     "data": {
      "text/plain": "<Figure size 1080x1080 with 2 Axes>",
      "image/png": "[encoded data removed]"
     },
     "metadata": {
      "needs_background": "light"
     },
     "output_type": "display_data"
    }
   ],
   "source": [
    "alphas = [1.0, 0.999, 0.99, 0.9, 0.7, 0.5, 0.3, 0.1, 0.01, 0.001]\n",
    "max_iters = 50000\n",
    "epsilon = 0.001\n",
    "\n",
    "init_v = np.zeros(env.num_states())\n",
    "init_g_scalar = 0\n",
    "convergence_flags = np.zeros(alphas.__len__())\n",
    "for i, alpha in enumerate(alphas):\n",
    "    alg = RVI_Evaluation(env, init_v, alpha, ref_idx=0)\n",
    "    print(f'RVI Evaluation starting alpha:{alpha}', end=' ')\n",
    "    convergence = run_alg(alg, 'exec_sync', max_iters, epsilon)\n",
    "    print(f'Converged? {convergence}')\n",
    "    convergence_flags[i] = convergence\n",
    "\n",
    "draw(convergence_flags, 'Synchronous RVI on the 3-loop problem', alphas)"
   ]
  },
  {
   "cell_type": "markdown",
   "metadata": {
    "id": "TNSLIvTg9om-"
   },
   "source": [
    "For $\\alpha=1$, sRVI does not converge on the (periodic) 3-loop problem."
   ]
  },
  {
   "cell_type": "markdown",
   "metadata": {},
   "source": [
    "### Synchronous DVI (sDVI) on the 3-loop problem"
   ]
  },
  {
   "cell_type": "code",
   "execution_count": 31,
   "metadata": {
    "id": "tLc2KBpcuxaM"
   },
   "outputs": [
    {
     "name": "stdout",
     "output_type": "stream",
     "text": [
      "DVI Evaluation starting alpha:1.0 "
     ]
    },
    {
     "name": "stderr",
     "output_type": "stream",
     "text": [
      "/Users/yiwan/miniconda3/lib/python3.7/site-packages/numpy/core/fromnumeric.py:86: RuntimeWarning: overflow encountered in reduce\n",
      "  return ufunc.reduce(obj, axis, dtype, out, **passkwargs)\n",
      "/Users/yiwan/Desktop/playground/differential-value-iteration/src/differential_value_iteration/algorithms/algorithms.py:163: RuntimeWarning: invalid value encountered in double_scalars\n",
      "  self.g += self.beta * np.sum(delta)\n"
     ]
    },
    {
     "name": "stdout",
     "output_type": "stream",
     "text": [
      "Converged? False\n",
      "DVI Evaluation starting alpha:1.0 Converged? False\n",
      "DVI Evaluation starting alpha:1.0 Converged? False\n",
      "DVI Evaluation starting alpha:1.0 Converged? False\n",
      "DVI Evaluation starting alpha:1.0 Converged? False\n",
      "DVI Evaluation starting alpha:1.0 Converged? False\n",
      "DVI Evaluation starting alpha:1.0 Converged? False\n",
      "DVI Evaluation starting alpha:1.0 Converged? False\n",
      "DVI Evaluation starting alpha:1.0 Converged? False\n",
      "DVI Evaluation starting alpha:1.0 Converged? False\n",
      "DVI Evaluation starting alpha:0.999 Converged? False\n",
      "DVI Evaluation starting alpha:0.999 Converged? False\n",
      "DVI Evaluation starting alpha:0.999 Converged? False\n",
      "DVI Evaluation starting alpha:0.999 Converged? False\n",
      "DVI Evaluation starting alpha:0.999 Converged? False\n",
      "DVI Evaluation starting alpha:0.999 Converged? True\n",
      "DVI Evaluation starting alpha:0.999 Converged? True\n",
      "DVI Evaluation starting alpha:0.999 Converged? True\n",
      "DVI Evaluation starting alpha:0.999 Converged? True\n",
      "DVI Evaluation starting alpha:0.999 Converged? True\n",
      "DVI Evaluation starting alpha:0.99 Converged? False\n",
      "DVI Evaluation starting alpha:0.99 Converged? False\n",
      "DVI Evaluation starting alpha:0.99 Converged? False\n",
      "DVI Evaluation starting alpha:0.99 Converged? False\n",
      "DVI Evaluation starting alpha:0.99 Converged? False\n",
      "DVI Evaluation starting alpha:0.99 Converged? True\n",
      "DVI Evaluation starting alpha:0.99 Converged? True\n",
      "DVI Evaluation starting alpha:0.99 Converged? True\n",
      "DVI Evaluation starting alpha:0.99 Converged? True\n",
      "DVI Evaluation starting alpha:0.99 Converged? True\n",
      "DVI Evaluation starting alpha:0.9 Converged? False\n",
      "DVI Evaluation starting alpha:0.9 Converged? False\n",
      "DVI Evaluation starting alpha:0.9 Converged? False\n",
      "DVI Evaluation starting alpha:0.9 Converged? False\n",
      "DVI Evaluation starting alpha:0.9 Converged? False\n",
      "DVI Evaluation starting alpha:0.9 Converged? True\n",
      "DVI Evaluation starting alpha:0.9 Converged? True\n",
      "DVI Evaluation starting alpha:0.9 Converged? True\n",
      "DVI Evaluation starting alpha:0.9 Converged? True\n",
      "DVI Evaluation starting alpha:0.9 Converged? True\n",
      "DVI Evaluation starting alpha:0.7 Converged? False\n",
      "DVI Evaluation starting alpha:0.7 Converged? False\n",
      "DVI Evaluation starting alpha:0.7 Converged? False\n",
      "DVI Evaluation starting alpha:0.7 Converged? False\n",
      "DVI Evaluation starting alpha:0.7 Converged? False\n",
      "DVI Evaluation starting alpha:0.7 Converged? True\n",
      "DVI Evaluation starting alpha:0.7 Converged? True\n",
      "DVI Evaluation starting alpha:0.7 Converged? True\n",
      "DVI Evaluation starting alpha:0.7 Converged? True\n",
      "DVI Evaluation starting alpha:0.7 Converged? True\n",
      "DVI Evaluation starting alpha:0.5 Converged? False\n",
      "DVI Evaluation starting alpha:0.5 Converged? False\n",
      "DVI Evaluation starting alpha:0.5 Converged? False\n",
      "DVI Evaluation starting alpha:0.5 Converged? False\n",
      "DVI Evaluation starting alpha:0.5 Converged? False\n",
      "DVI Evaluation starting alpha:0.5 Converged? True\n",
      "DVI Evaluation starting alpha:0.5 Converged? True\n",
      "DVI Evaluation starting alpha:0.5 Converged? True\n",
      "DVI Evaluation starting alpha:0.5 Converged? True\n",
      "DVI Evaluation starting alpha:0.5 Converged? True\n",
      "DVI Evaluation starting alpha:0.3 Converged? False\n",
      "DVI Evaluation starting alpha:0.3 Converged? False\n",
      "DVI Evaluation starting alpha:0.3 Converged? False\n",
      "DVI Evaluation starting alpha:0.3 Converged? False\n",
      "DVI Evaluation starting alpha:0.3 Converged? False\n",
      "DVI Evaluation starting alpha:0.3 Converged? True\n",
      "DVI Evaluation starting alpha:0.3 Converged? True\n",
      "DVI Evaluation starting alpha:0.3 Converged? True\n",
      "DVI Evaluation starting alpha:0.3 Converged? True\n",
      "DVI Evaluation starting alpha:0.3 Converged? True\n",
      "DVI Evaluation starting alpha:0.1 Converged? False\n",
      "DVI Evaluation starting alpha:0.1 Converged? False\n",
      "DVI Evaluation starting alpha:0.1 Converged? False\n",
      "DVI Evaluation starting alpha:0.1 Converged? False\n",
      "DVI Evaluation starting alpha:0.1 Converged? False\n",
      "DVI Evaluation starting alpha:0.1 Converged? True\n",
      "DVI Evaluation starting alpha:0.1 Converged? True\n",
      "DVI Evaluation starting alpha:0.1 Converged? True\n",
      "DVI Evaluation starting alpha:0.1 Converged? True\n",
      "DVI Evaluation starting alpha:0.1 Converged? True\n",
      "DVI Evaluation starting alpha:0.01 Converged? False\n",
      "DVI Evaluation starting alpha:0.01 Converged? False\n",
      "DVI Evaluation starting alpha:0.01 Converged? False\n",
      "DVI Evaluation starting alpha:0.01 Converged? False\n",
      "DVI Evaluation starting alpha:0.01 Converged? False\n",
      "DVI Evaluation starting alpha:0.01 Converged? True\n",
      "DVI Evaluation starting alpha:0.01 Converged? True\n",
      "DVI Evaluation starting alpha:0.01 Converged? True\n",
      "DVI Evaluation starting alpha:0.01 Converged? True\n",
      "DVI Evaluation starting alpha:0.01 Converged? True\n",
      "DVI Evaluation starting alpha:0.001 Converged? False\n",
      "DVI Evaluation starting alpha:0.001 Converged? False\n",
      "DVI Evaluation starting alpha:0.001 Converged? False\n",
      "DVI Evaluation starting alpha:0.001 Converged? False\n",
      "DVI Evaluation starting alpha:0.001 Converged? False\n",
      "DVI Evaluation starting alpha:0.001 Converged? True\n",
      "DVI Evaluation starting alpha:0.001 Converged? True\n",
      "DVI Evaluation starting alpha:0.001 Converged? True\n",
      "DVI Evaluation starting alpha:0.001 Converged? True\n",
      "DVI Evaluation starting alpha:0.001 Converged? True\n"
     ]
    }
   ],
   "source": [
    "betas = [1.0, 0.999, 0.99, 0.9, 0.7, 0.5, 0.3, 0.1, 0.01, 0.001]\n",
    "\n",
    "convergence_flags = np.zeros((alphas.__len__(), betas.__len__()))\n",
    "for i, alpha in enumerate(alphas):\n",
    "    for j, beta in enumerate(betas):\n",
    "        alg = DVI_Evaluation(env, init_v, init_g_scalar, alpha, beta)\n",
    "        print(f'DVI Evaluation starting alpha:{alpha}', end=' ')\n",
    "        convergence = run_alg(alg, 'exec_sync', max_iters, epsilon)\n",
    "        print(f'Converged? {convergence}')\n",
    "        convergence_flags[i][j] = convergence"
   ]
  },
  {
   "cell_type": "code",
   "execution_count": 32,
   "metadata": {
    "colab": {
     "base_uri": "https://localhost:8080/",
     "height": 878
    },
    "id": "4F0yiC-SXDpA",
    "outputId": "7d437276-875c-46f9-8e69-513f18dee19f"
   },
   "outputs": [
    {
     "data": {
      "text/plain": "<Figure size 1080x1080 with 2 Axes>",
      "image/png": "[encoded data removed]"
     },
     "metadata": {
      "needs_background": "light"
     },
     "output_type": "display_data"
    }
   ],
   "source": [
    "draw(convergence_flags, 'Synchronous DVI on the 3-loop problem', alphas, betas)"
   ]
  },
  {
   "cell_type": "markdown",
   "metadata": {
    "id": "COj-sfGM9eMQ"
   },
   "source": [
    "If $\\alpha=1$, sDVI does not converge for any value of $\\beta$ on the (periodic) 3-loop problem."
   ]
  },
  {
   "cell_type": "code",
   "execution_count": 32,
   "metadata": {},
   "outputs": [],
   "source": []
  }
 ],
 "metadata": {
  "colab": {
   "name": "DVI_experiments.ipynb",
   "provenance": []
  },
  "kernelspec": {
   "display_name": "Python 3",
   "language": "python",
   "name": "python3"
  },
  "language_info": {
   "codemirror_mode": {
    "name": "ipython",
    "version": 3
   },
   "file_extension": ".py",
   "mimetype": "text/x-python",
   "name": "python",
   "nbconvert_exporter": "python",
   "pygments_lexer": "ipython3",
   "version": "3.7.3"
  }
 },
 "nbformat": 4,
 "nbformat_minor": 1
}